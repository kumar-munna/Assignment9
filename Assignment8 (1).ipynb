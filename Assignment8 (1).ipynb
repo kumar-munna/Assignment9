{
 "cells": [
  {
   "cell_type": "raw",
   "id": "96ee7918-e3c6-4c70-bb91-59c18a673569",
   "metadata": {},
   "source": [
    " Question 1: What is Abstraction in OOps? Explain with an example."
   ]
  },
  {
   "cell_type": "code",
   "execution_count": 2,
   "id": "d4822fd8-bd15-4fcc-971c-9ce4a71f256d",
   "metadata": {},
   "outputs": [],
   "source": [
    "# # Answer 1: Abstraction is the process of hiding the internal details of an application\n",
    "# #           from the outer world. Abstraction is used to describe things in simple terms. \n",
    "# #           It's used to create a boundary between the application and the client programs.\n",
    "#             for example :- You can start a car by turning the key or pressing the start buttom.\n",
    "#             You don't need to know how the engine is getting started, What all components your \n",
    "#             car has. The car internal implementation and complex logic is completely hidden from user."
   ]
  },
  {
   "cell_type": "raw",
   "id": "780bbfe8-b438-4d92-870a-8349b74d18bc",
   "metadata": {},
   "source": [
    "Q2. Differentiate between Abstraction and Encapsulation. Explain with an example."
   ]
  },
  {
   "cell_type": "code",
   "execution_count": null,
   "id": "0a3df1f2-8a98-42c2-9896-74d0fe3c2565",
   "metadata": {},
   "outputs": [],
   "source": [
    "# Answer 2: i)Abstraction shows only useful data by providing the most necessary \n",
    "#           details, whereas Encapsulation wraps code and data for necessary \n",
    "#           information.\n",
    "#         ii) Abstraction is focused mainly on what should be done , while \n",
    "#            Encapsulation is focused on how it should be done.\n",
    "#         iii) Abstraction hides complexity by giving you a more abstract picture,\n",
    "#             while Encapsulation hides internal work so that you can change it later."
   ]
  },
  {
   "cell_type": "raw",
   "id": "ba79938a-9f3b-418b-bc1a-4f64857965d3",
   "metadata": {},
   "source": [
    "question 3: What is abc module in python? Why is it used?"
   ]
  },
  {
   "cell_type": "code",
   "execution_count": null,
   "id": "076cdaf5-3b08-4ae7-ac83-ac3422109168",
   "metadata": {},
   "outputs": [],
   "source": [
    "# Answer 3: Abstract classes are classes that contain one or more abstract methods.\n",
    "#           An abstract method is a method that is declared , but contains no \n",
    "#          implementation . Abstract classes cannot be instantiated and require \n",
    "#          subclasses to provide implementation for the abstract methods."
   ]
  },
  {
   "cell_type": "raw",
   "id": "10648dfd-cfcc-4433-8d34-49f8c60aef06",
   "metadata": {},
   "source": [
    "Q4. How can we achieve data abstraction?"
   ]
  },
  {
   "cell_type": "code",
   "execution_count": null,
   "id": "9a64d115-1a6c-4401-a65d-bce49d1ec6ad",
   "metadata": {},
   "outputs": [],
   "source": [
    "# Answer 4: An abstraction can be achieved using classes. A class is used to group\n",
    "#         all the data members and member functions into a single unit by using the\n",
    "#         access specifiers. A class has the reponsibility to determine which data\n",
    "#         member is to be visible outside and which is not."
   ]
  },
  {
   "cell_type": "raw",
   "id": "cc550934-2aa7-4734-a6c2-80c1a3a0ec7a",
   "metadata": {},
   "source": [
    "Q5. Can we create an instance of an abstract class? Explain your answer."
   ]
  },
  {
   "cell_type": "code",
   "execution_count": null,
   "id": "bb78866d-4f52-4690-afc1-cd41ead49dd2",
   "metadata": {},
   "outputs": [],
   "source": [
    "# Answer 5: Abstract classes are not complete, as they may have some methods that are not defined.\n",
    "#           So we cannot create an instance or object of an abstract class in Python. "
   ]
  }
 ],
 "metadata": {
  "kernelspec": {
   "display_name": "Python 3 (ipykernel)",
   "language": "python",
   "name": "python3"
  },
  "language_info": {
   "codemirror_mode": {
    "name": "ipython",
    "version": 3
   },
   "file_extension": ".py",
   "mimetype": "text/x-python",
   "name": "python",
   "nbconvert_exporter": "python",
   "pygments_lexer": "ipython3",
   "version": "3.10.8"
  }
 },
 "nbformat": 4,
 "nbformat_minor": 5
}
